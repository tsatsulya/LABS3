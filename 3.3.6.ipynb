{
 "cells": [
  {
   "cell_type": "code",
   "execution_count": 4,
   "id": "bdaf3156",
   "metadata": {},
   "outputs": [
    {
     "data": {
      "text/plain": [
       "[<matplotlib.lines.Line2D at 0x7f30f453ecb0>]"
      ]
     },
     "execution_count": 4,
     "metadata": {},
     "output_type": "execute_result"
    },
    {
     "data": {
      "image/png": "[encoded data removed]",
      "text/plain": [
       "<Figure size 432x288 with 1 Axes>"
      ]
     },
     "metadata": {
      "needs_background": "light"
     },
     "output_type": "display_data"
    }
   ],
   "source": [
    "import numpy as np\n",
    "import matplotlib.pyplot as plt\n",
    "\n",
    "\n",
    "Im = np.array([0, 10, 30, 50, 70, 100, 120, 150, 160, 180, 200, 230, 250, 270, 300, 330, 370])\n",
    "B = np.array([12.28, 18.55, 43.6, 69.5, 89.1, 126.5, 154.6, 191.8, 204, 223, 248, 280, 301, 314, 332, 344, 358])\n",
    "\n",
    "plt.plot(Im, B)\n"
   ]
  },
  {
   "cell_type": "code",
   "execution_count": 6,
   "id": "506228bb",
   "metadata": {},
   "outputs": [
    {
     "name": "stdout",
     "output_type": "stream",
     "text": [
      "12.28\n",
      "18.55\n",
      "25.049999999999997\n",
      "51.8\n",
      "89.1\n",
      "112.20000000000002\n",
      "126.5\n",
      "161.20000000000007\n",
      "191.8\n",
      "204.0\n",
      "248.0\n",
      "280.0\n",
      "301.0\n",
      "168.0\n",
      "124.0\n",
      "122.49999999999999\n",
      "125.99999999999999\n"
     ]
    }
   ],
   "source": [
    "\n",
    "Im1 = np.array([0, 10, 20, 40, 70, 90, 100, 130, 150, 160, 200, 230, 250, 280, 310, 350, 360]) # диск\n",
    "Im2 = np.array([0, 20, 50, 70, 80, 100, 110, 130, 140, 170, 190, 210, 230, 260, 300, 330, 360]) # поперек\n",
    "Im3 = np.array([0, 10, 30, 50, 80, 90, 110, 140, 160, 180, 200, 230, 240, 250, 270, 290, 320, 350]) # вдоль\n",
    "\n",
    "\n",
    "def foo(Im, B, I):\n",
    "    for i in range(len(Im)):\n",
    "        if Im[i] == I:\n",
    "            return B[i]\n",
    "        if Im[i] > I:\n",
    "            k = (B[i] - B[i-1])/(Im[i] - Im[i-1])\n",
    "            return k*I\n",
    "\n",
    "\n",
    "        \n",
    "for I in Im1:\n",
    "    print(foo(Im, B, I))"
   ]
  },
  {
   "cell_type": "code",
   "execution_count": null,
   "id": "0a2b5c06",
   "metadata": {},
   "outputs": [],
   "source": []
  }
 ],
 "metadata": {
  "kernelspec": {
   "display_name": "Python 3 (ipykernel)",
   "language": "python",
   "name": "python3"
  },
  "language_info": {
   "codemirror_mode": {
    "name": "ipython",
    "version": 3
   },
   "file_extension": ".py",
   "mimetype": "text/x-python",
   "name": "python",
   "nbconvert_exporter": "python",
   "pygments_lexer": "ipython3",
   "version": "3.10.7"
  }
 },
 "nbformat": 4,
 "nbformat_minor": 5
}
